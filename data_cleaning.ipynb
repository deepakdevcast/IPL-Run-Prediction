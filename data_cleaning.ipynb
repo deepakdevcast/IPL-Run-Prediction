{
 "metadata": {
  "language_info": {
   "codemirror_mode": {
    "name": "ipython",
    "version": 3
   },
   "file_extension": ".py",
   "mimetype": "text/x-python",
   "name": "python",
   "nbconvert_exporter": "python",
   "pygments_lexer": "ipython3",
   "version": "3.7.1"
  },
  "orig_nbformat": 2,
  "kernelspec": {
   "name": "python371jvsc74a57bd0b3ba2566441a7c06988d0923437866b63cedc61552a5af99d1f4fb67d367b25f",
   "display_name": "Python 3.7.1 64-bit ('base': conda)"
  }
 },
 "nbformat": 4,
 "nbformat_minor": 2,
 "cells": [
  {
   "cell_type": "code",
   "execution_count": 1,
   "metadata": {},
   "outputs": [
    {
     "output_type": "stream",
     "name": "stderr",
     "text": [
      "C:\\ProgramData\\Anaconda3\\lib\\site-packages\\IPython\\core\\interactiveshell.py:3020: DtypeWarning: Columns (1) have mixed types. Specify dtype option on import or set low_memory=False.\n  interactivity=interactivity, compiler=compiler, result=result)\n"
     ]
    }
   ],
   "source": [
    "import pandas as pd\n",
    "import numpy as np\n",
    "all_matches = pd.read_csv(\"all_matches.csv\")"
   ]
  },
  {
   "cell_type": "code",
   "execution_count": 2,
   "metadata": {},
   "outputs": [
    {
     "output_type": "stream",
     "name": "stdout",
     "text": [
      "Index(['match_id', 'season', 'start_date', 'venue', 'innings', 'ball',\n       'batting_team', 'bowling_team', 'striker', 'non_striker', 'bowler',\n       'runs_off_bat', 'extras', 'wides', 'noballs', 'byes', 'legbyes',\n       'penalty', 'wicket_type', 'player_dismissed', 'other_wicket_type',\n       'other_player_dismissed'],\n      dtype='object')\n"
     ]
    }
   ],
   "source": [
    "all_matches = all_matches[all_matches['ball']<6.0]\n",
    "all_matches = all_matches[all_matches['innings']<3]\n",
    "print(all_matches.columns)\n"
   ]
  },
  {
   "cell_type": "code",
   "execution_count": 3,
   "metadata": {},
   "outputs": [
    {
     "output_type": "execute_result",
     "data": {
      "text/plain": [
       "   match_id start_date                  venue  innings  ball  \\\n",
       "0    335982   18-04-08  M Chinnaswamy Stadium        1   0.1   \n",
       "1    335982   18-04-08  M Chinnaswamy Stadium        1   0.2   \n",
       "2    335982   18-04-08  M Chinnaswamy Stadium        1   0.3   \n",
       "3    335982   18-04-08  M Chinnaswamy Stadium        1   0.4   \n",
       "4    335982   18-04-08  M Chinnaswamy Stadium        1   0.5   \n",
       "\n",
       "            batting_team                 bowling_team      striker  \\\n",
       "0  Kolkata Knight Riders  Royal Challengers Bangalore   SC Ganguly   \n",
       "1  Kolkata Knight Riders  Royal Challengers Bangalore  BB McCullum   \n",
       "2  Kolkata Knight Riders  Royal Challengers Bangalore  BB McCullum   \n",
       "3  Kolkata Knight Riders  Royal Challengers Bangalore  BB McCullum   \n",
       "4  Kolkata Knight Riders  Royal Challengers Bangalore  BB McCullum   \n",
       "\n",
       "   runs_off_bat  extras  runs  \n",
       "0             0       1     1  \n",
       "1             0       0     0  \n",
       "2             0       1     1  \n",
       "3             0       0     0  \n",
       "4             0       0     0  "
      ],
      "text/html": "<div>\n<style scoped>\n    .dataframe tbody tr th:only-of-type {\n        vertical-align: middle;\n    }\n\n    .dataframe tbody tr th {\n        vertical-align: top;\n    }\n\n    .dataframe thead th {\n        text-align: right;\n    }\n</style>\n<table border=\"1\" class=\"dataframe\">\n  <thead>\n    <tr style=\"text-align: right;\">\n      <th></th>\n      <th>match_id</th>\n      <th>start_date</th>\n      <th>venue</th>\n      <th>innings</th>\n      <th>ball</th>\n      <th>batting_team</th>\n      <th>bowling_team</th>\n      <th>striker</th>\n      <th>runs_off_bat</th>\n      <th>extras</th>\n      <th>runs</th>\n    </tr>\n  </thead>\n  <tbody>\n    <tr>\n      <th>0</th>\n      <td>335982</td>\n      <td>18-04-08</td>\n      <td>M Chinnaswamy Stadium</td>\n      <td>1</td>\n      <td>0.1</td>\n      <td>Kolkata Knight Riders</td>\n      <td>Royal Challengers Bangalore</td>\n      <td>SC Ganguly</td>\n      <td>0</td>\n      <td>1</td>\n      <td>1</td>\n    </tr>\n    <tr>\n      <th>1</th>\n      <td>335982</td>\n      <td>18-04-08</td>\n      <td>M Chinnaswamy Stadium</td>\n      <td>1</td>\n      <td>0.2</td>\n      <td>Kolkata Knight Riders</td>\n      <td>Royal Challengers Bangalore</td>\n      <td>BB McCullum</td>\n      <td>0</td>\n      <td>0</td>\n      <td>0</td>\n    </tr>\n    <tr>\n      <th>2</th>\n      <td>335982</td>\n      <td>18-04-08</td>\n      <td>M Chinnaswamy Stadium</td>\n      <td>1</td>\n      <td>0.3</td>\n      <td>Kolkata Knight Riders</td>\n      <td>Royal Challengers Bangalore</td>\n      <td>BB McCullum</td>\n      <td>0</td>\n      <td>1</td>\n      <td>1</td>\n    </tr>\n    <tr>\n      <th>3</th>\n      <td>335982</td>\n      <td>18-04-08</td>\n      <td>M Chinnaswamy Stadium</td>\n      <td>1</td>\n      <td>0.4</td>\n      <td>Kolkata Knight Riders</td>\n      <td>Royal Challengers Bangalore</td>\n      <td>BB McCullum</td>\n      <td>0</td>\n      <td>0</td>\n      <td>0</td>\n    </tr>\n    <tr>\n      <th>4</th>\n      <td>335982</td>\n      <td>18-04-08</td>\n      <td>M Chinnaswamy Stadium</td>\n      <td>1</td>\n      <td>0.5</td>\n      <td>Kolkata Knight Riders</td>\n      <td>Royal Challengers Bangalore</td>\n      <td>BB McCullum</td>\n      <td>0</td>\n      <td>0</td>\n      <td>0</td>\n    </tr>\n  </tbody>\n</table>\n</div>"
     },
     "metadata": {},
     "execution_count": 3
    }
   ],
   "source": [
    "batting = all_matches[['match_id','start_date','venue','innings','ball','batting_team','bowling_team','striker','runs_off_bat', 'extras']].copy()\n",
    "batting['runs'] = batting['runs_off_bat']+batting['extras']\n",
    "batting.head()"
   ]
  },
  {
   "cell_type": "code",
   "execution_count": 4,
   "metadata": {},
   "outputs": [
    {
     "output_type": "execute_result",
     "data": {
      "text/plain": [
       "   match_id                  venue  innings                 batting_team  \\\n",
       "0    335982  M Chinnaswamy Stadium        1        Kolkata Knight Riders   \n",
       "1    335982  M Chinnaswamy Stadium        1        Kolkata Knight Riders   \n",
       "2    335982  M Chinnaswamy Stadium        1        Kolkata Knight Riders   \n",
       "3    335982  M Chinnaswamy Stadium        2  Royal Challengers Bangalore   \n",
       "4    335982  M Chinnaswamy Stadium        2  Royal Challengers Bangalore   \n",
       "\n",
       "                  bowling_team      striker  ball  runs  \n",
       "0  Royal Challengers Bangalore  BB McCullum    22    49  \n",
       "1  Royal Challengers Bangalore   RT Ponting     4     0  \n",
       "2  Royal Challengers Bangalore   SC Ganguly    12    12  \n",
       "3        Kolkata Knight Riders     CL White     2     1  \n",
       "4        Kolkata Knight Riders    JH Kallis     7     9  "
      ],
      "text/html": "<div>\n<style scoped>\n    .dataframe tbody tr th:only-of-type {\n        vertical-align: middle;\n    }\n\n    .dataframe tbody tr th {\n        vertical-align: top;\n    }\n\n    .dataframe thead th {\n        text-align: right;\n    }\n</style>\n<table border=\"1\" class=\"dataframe\">\n  <thead>\n    <tr style=\"text-align: right;\">\n      <th></th>\n      <th>match_id</th>\n      <th>venue</th>\n      <th>innings</th>\n      <th>batting_team</th>\n      <th>bowling_team</th>\n      <th>striker</th>\n      <th>ball</th>\n      <th>runs</th>\n    </tr>\n  </thead>\n  <tbody>\n    <tr>\n      <th>0</th>\n      <td>335982</td>\n      <td>M Chinnaswamy Stadium</td>\n      <td>1</td>\n      <td>Kolkata Knight Riders</td>\n      <td>Royal Challengers Bangalore</td>\n      <td>BB McCullum</td>\n      <td>22</td>\n      <td>49</td>\n    </tr>\n    <tr>\n      <th>1</th>\n      <td>335982</td>\n      <td>M Chinnaswamy Stadium</td>\n      <td>1</td>\n      <td>Kolkata Knight Riders</td>\n      <td>Royal Challengers Bangalore</td>\n      <td>RT Ponting</td>\n      <td>4</td>\n      <td>0</td>\n    </tr>\n    <tr>\n      <th>2</th>\n      <td>335982</td>\n      <td>M Chinnaswamy Stadium</td>\n      <td>1</td>\n      <td>Kolkata Knight Riders</td>\n      <td>Royal Challengers Bangalore</td>\n      <td>SC Ganguly</td>\n      <td>12</td>\n      <td>12</td>\n    </tr>\n    <tr>\n      <th>3</th>\n      <td>335982</td>\n      <td>M Chinnaswamy Stadium</td>\n      <td>2</td>\n      <td>Royal Challengers Bangalore</td>\n      <td>Kolkata Knight Riders</td>\n      <td>CL White</td>\n      <td>2</td>\n      <td>1</td>\n    </tr>\n    <tr>\n      <th>4</th>\n      <td>335982</td>\n      <td>M Chinnaswamy Stadium</td>\n      <td>2</td>\n      <td>Royal Challengers Bangalore</td>\n      <td>Kolkata Knight Riders</td>\n      <td>JH Kallis</td>\n      <td>7</td>\n      <td>9</td>\n    </tr>\n  </tbody>\n</table>\n</div>"
     },
     "metadata": {},
     "execution_count": 4
    }
   ],
   "source": [
    "battingGroup = batting.groupby(['match_id','venue','innings','batting_team','bowling_team','striker'],as_index=False)['ball'].count()\n",
    "battingrun = batting.groupby(['match_id','venue','innings','batting_team','bowling_team','striker'],as_index=False)['runs'].sum()\n",
    "battingGroup['runs'] = battingrun['runs']\n",
    "battingGroup.head()"
   ]
  },
  {
   "cell_type": "code",
   "execution_count": 5,
   "metadata": {},
   "outputs": [],
   "source": [
    "battingGroup.to_csv('batsman.csv',index=False)"
   ]
  },
  {
   "cell_type": "code",
   "execution_count": 6,
   "metadata": {},
   "outputs": [
    {
     "output_type": "execute_result",
     "data": {
      "text/plain": [
       "   match_id                  venue  innings  ball           batting_team  \\\n",
       "0    335982  M Chinnaswamy Stadium        1   0.1  Kolkata Knight Riders   \n",
       "1    335982  M Chinnaswamy Stadium        1   0.2  Kolkata Knight Riders   \n",
       "\n",
       "                  bowling_team   bowler  wicket_type player_dismissed  \n",
       "0  Royal Challengers Bangalore  P Kumar            0              NaN  \n",
       "1  Royal Challengers Bangalore  P Kumar            0              NaN  "
      ],
      "text/html": "<div>\n<style scoped>\n    .dataframe tbody tr th:only-of-type {\n        vertical-align: middle;\n    }\n\n    .dataframe tbody tr th {\n        vertical-align: top;\n    }\n\n    .dataframe thead th {\n        text-align: right;\n    }\n</style>\n<table border=\"1\" class=\"dataframe\">\n  <thead>\n    <tr style=\"text-align: right;\">\n      <th></th>\n      <th>match_id</th>\n      <th>venue</th>\n      <th>innings</th>\n      <th>ball</th>\n      <th>batting_team</th>\n      <th>bowling_team</th>\n      <th>bowler</th>\n      <th>wicket_type</th>\n      <th>player_dismissed</th>\n    </tr>\n  </thead>\n  <tbody>\n    <tr>\n      <th>0</th>\n      <td>335982</td>\n      <td>M Chinnaswamy Stadium</td>\n      <td>1</td>\n      <td>0.1</td>\n      <td>Kolkata Knight Riders</td>\n      <td>Royal Challengers Bangalore</td>\n      <td>P Kumar</td>\n      <td>0</td>\n      <td>NaN</td>\n    </tr>\n    <tr>\n      <th>1</th>\n      <td>335982</td>\n      <td>M Chinnaswamy Stadium</td>\n      <td>1</td>\n      <td>0.2</td>\n      <td>Kolkata Knight Riders</td>\n      <td>Royal Challengers Bangalore</td>\n      <td>P Kumar</td>\n      <td>0</td>\n      <td>NaN</td>\n    </tr>\n  </tbody>\n</table>\n</div>"
     },
     "metadata": {},
     "execution_count": 6
    }
   ],
   "source": [
    "bowling = all_matches[['match_id','venue', 'innings','ball','batting_team', 'bowling_team','bowler','wicket_type', 'player_dismissed']].copy()\n",
    "bowling['wicket_type'] = bowling['wicket_type'].fillna(0)\n",
    "# bowling[bowling['wicket_type']!=0]\n",
    "bowling.loc[(bowling.wicket_type != 0),'wicket_type']=1\n",
    "bowling.head(2)"
   ]
  },
  {
   "cell_type": "code",
   "execution_count": 7,
   "metadata": {},
   "outputs": [
    {
     "output_type": "execute_result",
     "data": {
      "text/plain": [
       "   match_id                  venue  innings                 batting_team  \\\n",
       "0    335982  M Chinnaswamy Stadium        1        Kolkata Knight Riders   \n",
       "1    335982  M Chinnaswamy Stadium        1        Kolkata Knight Riders   \n",
       "2    335982  M Chinnaswamy Stadium        1        Kolkata Knight Riders   \n",
       "3    335982  M Chinnaswamy Stadium        2  Royal Challengers Bangalore   \n",
       "4    335982  M Chinnaswamy Stadium        2  Royal Challengers Bangalore   \n",
       "\n",
       "                  bowling_team      bowler  wicket_type  balls  \n",
       "0  Royal Challengers Bangalore   AA Noffke            0      7  \n",
       "1  Royal Challengers Bangalore     P Kumar            0     19  \n",
       "2  Royal Challengers Bangalore      Z Khan            1     12  \n",
       "3        Kolkata Knight Riders  AB Agarkar            1      6  \n",
       "4        Kolkata Knight Riders    AB Dinda            2     20  "
      ],
      "text/html": "<div>\n<style scoped>\n    .dataframe tbody tr th:only-of-type {\n        vertical-align: middle;\n    }\n\n    .dataframe tbody tr th {\n        vertical-align: top;\n    }\n\n    .dataframe thead th {\n        text-align: right;\n    }\n</style>\n<table border=\"1\" class=\"dataframe\">\n  <thead>\n    <tr style=\"text-align: right;\">\n      <th></th>\n      <th>match_id</th>\n      <th>venue</th>\n      <th>innings</th>\n      <th>batting_team</th>\n      <th>bowling_team</th>\n      <th>bowler</th>\n      <th>wicket_type</th>\n      <th>balls</th>\n    </tr>\n  </thead>\n  <tbody>\n    <tr>\n      <th>0</th>\n      <td>335982</td>\n      <td>M Chinnaswamy Stadium</td>\n      <td>1</td>\n      <td>Kolkata Knight Riders</td>\n      <td>Royal Challengers Bangalore</td>\n      <td>AA Noffke</td>\n      <td>0</td>\n      <td>7</td>\n    </tr>\n    <tr>\n      <th>1</th>\n      <td>335982</td>\n      <td>M Chinnaswamy Stadium</td>\n      <td>1</td>\n      <td>Kolkata Knight Riders</td>\n      <td>Royal Challengers Bangalore</td>\n      <td>P Kumar</td>\n      <td>0</td>\n      <td>19</td>\n    </tr>\n    <tr>\n      <th>2</th>\n      <td>335982</td>\n      <td>M Chinnaswamy Stadium</td>\n      <td>1</td>\n      <td>Kolkata Knight Riders</td>\n      <td>Royal Challengers Bangalore</td>\n      <td>Z Khan</td>\n      <td>1</td>\n      <td>12</td>\n    </tr>\n    <tr>\n      <th>3</th>\n      <td>335982</td>\n      <td>M Chinnaswamy Stadium</td>\n      <td>2</td>\n      <td>Royal Challengers Bangalore</td>\n      <td>Kolkata Knight Riders</td>\n      <td>AB Agarkar</td>\n      <td>1</td>\n      <td>6</td>\n    </tr>\n    <tr>\n      <th>4</th>\n      <td>335982</td>\n      <td>M Chinnaswamy Stadium</td>\n      <td>2</td>\n      <td>Royal Challengers Bangalore</td>\n      <td>Kolkata Knight Riders</td>\n      <td>AB Dinda</td>\n      <td>2</td>\n      <td>20</td>\n    </tr>\n  </tbody>\n</table>\n</div>"
     },
     "metadata": {},
     "execution_count": 7
    }
   ],
   "source": [
    "bowlingGroup = bowling.groupby(['match_id','venue','innings','batting_team','bowling_team','bowler'],as_index=False)['wicket_type'].sum()\n",
    "ball= bowling.groupby(['match_id','venue','innings','batting_team','bowling_team','bowler'],as_index=False)['wicket_type'].count()\n",
    "bowlingGroup['balls'] = ball['wicket_type']\n",
    "bowlingGroup.head()"
   ]
  },
  {
   "cell_type": "code",
   "execution_count": 8,
   "metadata": {},
   "outputs": [],
   "source": [
    "bowlingGroup.to_csv('bowling.csv',index=False)"
   ]
  },
  {
   "cell_type": "code",
   "execution_count": 10,
   "metadata": {},
   "outputs": [],
   "source": [
    "batsmenbowler = all_matches[['striker','bowler','ball','runs_off_bat', 'extras']].copy()\n",
    "batsmenbowler['runs'] = batsmenbowler['runs_off_bat']+batsmenbowler['extras']"
   ]
  },
  {
   "cell_type": "code",
   "execution_count": 11,
   "metadata": {},
   "outputs": [
    {
     "output_type": "execute_result",
     "data": {
      "text/plain": [
       "          striker         bowler  runs  balls\n",
       "0  A Ashish Reddy        A Nehra     6      5\n",
       "1  A Ashish Reddy        J Botha     0      2\n",
       "2        A Chopra  DP Vijaykumar     1      5\n",
       "3        A Chopra       DW Steyn     1      4\n",
       "4        A Chopra     GD McGrath     2      4"
      ],
      "text/html": "<div>\n<style scoped>\n    .dataframe tbody tr th:only-of-type {\n        vertical-align: middle;\n    }\n\n    .dataframe tbody tr th {\n        vertical-align: top;\n    }\n\n    .dataframe thead th {\n        text-align: right;\n    }\n</style>\n<table border=\"1\" class=\"dataframe\">\n  <thead>\n    <tr style=\"text-align: right;\">\n      <th></th>\n      <th>striker</th>\n      <th>bowler</th>\n      <th>runs</th>\n      <th>balls</th>\n    </tr>\n  </thead>\n  <tbody>\n    <tr>\n      <th>0</th>\n      <td>A Ashish Reddy</td>\n      <td>A Nehra</td>\n      <td>6</td>\n      <td>5</td>\n    </tr>\n    <tr>\n      <th>1</th>\n      <td>A Ashish Reddy</td>\n      <td>J Botha</td>\n      <td>0</td>\n      <td>2</td>\n    </tr>\n    <tr>\n      <th>2</th>\n      <td>A Chopra</td>\n      <td>DP Vijaykumar</td>\n      <td>1</td>\n      <td>5</td>\n    </tr>\n    <tr>\n      <th>3</th>\n      <td>A Chopra</td>\n      <td>DW Steyn</td>\n      <td>1</td>\n      <td>4</td>\n    </tr>\n    <tr>\n      <th>4</th>\n      <td>A Chopra</td>\n      <td>GD McGrath</td>\n      <td>2</td>\n      <td>4</td>\n    </tr>\n  </tbody>\n</table>\n</div>"
     },
     "metadata": {},
     "execution_count": 11
    }
   ],
   "source": [
    "batsmenbowlerGroup = batsmenbowler.groupby(['striker','bowler'],as_index=False)['runs'].sum()\n",
    "balls = batsmenbowler.groupby(['striker','bowler'],as_index=False)['ball'].count()\n",
    "batsmenbowlerGroup['balls'] = balls['ball']\n",
    "batsmenbowlerGroup.head()"
   ]
  },
  {
   "cell_type": "code",
   "execution_count": 12,
   "metadata": {},
   "outputs": [],
   "source": [
    "batsmenbowlerGroup.to_csv('batsmanbowler.csv',index=False)"
   ]
  },
  {
   "cell_type": "code",
   "execution_count": null,
   "metadata": {},
   "outputs": [],
   "source": []
  }
 ]
}
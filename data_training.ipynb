{
 "metadata": {
  "language_info": {
   "codemirror_mode": {
    "name": "ipython",
    "version": 3
   },
   "file_extension": ".py",
   "mimetype": "text/x-python",
   "name": "python",
   "nbconvert_exporter": "python",
   "pygments_lexer": "ipython3",
   "version": "3.7.1"
  },
  "orig_nbformat": 2,
  "kernelspec": {
   "name": "python371jvsc74a57bd0b3ba2566441a7c06988d0923437866b63cedc61552a5af99d1f4fb67d367b25f",
   "display_name": "Python 3.7.1 64-bit ('base': conda)"
  }
 },
 "nbformat": 4,
 "nbformat_minor": 2,
 "cells": [
  {
   "cell_type": "code",
   "execution_count": 1,
   "metadata": {},
   "outputs": [
    {
     "output_type": "execute_result",
     "data": {
      "text/plain": [
       "   match_id                  venue  innings           batting_team  \\\n",
       "0    335982  M Chinnaswamy Stadium        1  Kolkata Knight Riders   \n",
       "1    335982  M Chinnaswamy Stadium        1  Kolkata Knight Riders   \n",
       "\n",
       "                  bowling_team      striker  ball  runs  \n",
       "0  Royal Challengers Bangalore  BB McCullum    22    49  \n",
       "1  Royal Challengers Bangalore   RT Ponting     4     0  "
      ],
      "text/html": "<div>\n<style scoped>\n    .dataframe tbody tr th:only-of-type {\n        vertical-align: middle;\n    }\n\n    .dataframe tbody tr th {\n        vertical-align: top;\n    }\n\n    .dataframe thead th {\n        text-align: right;\n    }\n</style>\n<table border=\"1\" class=\"dataframe\">\n  <thead>\n    <tr style=\"text-align: right;\">\n      <th></th>\n      <th>match_id</th>\n      <th>venue</th>\n      <th>innings</th>\n      <th>batting_team</th>\n      <th>bowling_team</th>\n      <th>striker</th>\n      <th>ball</th>\n      <th>runs</th>\n    </tr>\n  </thead>\n  <tbody>\n    <tr>\n      <th>0</th>\n      <td>335982</td>\n      <td>M Chinnaswamy Stadium</td>\n      <td>1</td>\n      <td>Kolkata Knight Riders</td>\n      <td>Royal Challengers Bangalore</td>\n      <td>BB McCullum</td>\n      <td>22</td>\n      <td>49</td>\n    </tr>\n    <tr>\n      <th>1</th>\n      <td>335982</td>\n      <td>M Chinnaswamy Stadium</td>\n      <td>1</td>\n      <td>Kolkata Knight Riders</td>\n      <td>Royal Challengers Bangalore</td>\n      <td>RT Ponting</td>\n      <td>4</td>\n      <td>0</td>\n    </tr>\n  </tbody>\n</table>\n</div>"
     },
     "metadata": {},
     "execution_count": 1
    }
   ],
   "source": [
    "import pandas as pd\n",
    "dataset = pd.read_csv(\"batsman.csv\")\n",
    "dataset.head(2)"
   ]
  },
  {
   "cell_type": "code",
   "execution_count": 2,
   "metadata": {},
   "outputs": [],
   "source": [
    "#convert String to int So that we can use to train data \n",
    "\n",
    "from sklearn.preprocessing import LabelEncoder\n",
    "venueEncoder = LabelEncoder()\n",
    "teamEncoder = LabelEncoder()\n",
    "strikerEncoder = LabelEncoder()\n",
    "\n",
    "df2 = dataset.copy()\n",
    "df2['venue'] = venueEncoder.fit_transform(dataset['venue'])\n",
    "df2['batting_team'] = teamEncoder.fit_transform(dataset['batting_team'])\n",
    "df2['bowling_team'] = teamEncoder.fit_transform(dataset['bowling_team'])\n",
    "df2['striker'] = strikerEncoder.fit_transform(dataset['striker'])"
   ]
  },
  {
   "cell_type": "code",
   "execution_count": 3,
   "metadata": {},
   "outputs": [
    {
     "output_type": "execute_result",
     "data": {
      "text/plain": [
       "   match_id  venue  innings  batting_team  bowling_team  striker  ball  runs\n",
       "0    335982     15        1             7            13       37    22    49\n",
       "1    335982     15        1             7            13      210     4     0\n",
       "2    335982     15        1             7            13      225    12    12\n",
       "3    335982     15        2            13             7       53     2     1\n",
       "4    335982     15        2            13             7       99     7     9"
      ],
      "text/html": "<div>\n<style scoped>\n    .dataframe tbody tr th:only-of-type {\n        vertical-align: middle;\n    }\n\n    .dataframe tbody tr th {\n        vertical-align: top;\n    }\n\n    .dataframe thead th {\n        text-align: right;\n    }\n</style>\n<table border=\"1\" class=\"dataframe\">\n  <thead>\n    <tr style=\"text-align: right;\">\n      <th></th>\n      <th>match_id</th>\n      <th>venue</th>\n      <th>innings</th>\n      <th>batting_team</th>\n      <th>bowling_team</th>\n      <th>striker</th>\n      <th>ball</th>\n      <th>runs</th>\n    </tr>\n  </thead>\n  <tbody>\n    <tr>\n      <th>0</th>\n      <td>335982</td>\n      <td>15</td>\n      <td>1</td>\n      <td>7</td>\n      <td>13</td>\n      <td>37</td>\n      <td>22</td>\n      <td>49</td>\n    </tr>\n    <tr>\n      <th>1</th>\n      <td>335982</td>\n      <td>15</td>\n      <td>1</td>\n      <td>7</td>\n      <td>13</td>\n      <td>210</td>\n      <td>4</td>\n      <td>0</td>\n    </tr>\n    <tr>\n      <th>2</th>\n      <td>335982</td>\n      <td>15</td>\n      <td>1</td>\n      <td>7</td>\n      <td>13</td>\n      <td>225</td>\n      <td>12</td>\n      <td>12</td>\n    </tr>\n    <tr>\n      <th>3</th>\n      <td>335982</td>\n      <td>15</td>\n      <td>2</td>\n      <td>13</td>\n      <td>7</td>\n      <td>53</td>\n      <td>2</td>\n      <td>1</td>\n    </tr>\n    <tr>\n      <th>4</th>\n      <td>335982</td>\n      <td>15</td>\n      <td>2</td>\n      <td>13</td>\n      <td>7</td>\n      <td>99</td>\n      <td>7</td>\n      <td>9</td>\n    </tr>\n  </tbody>\n</table>\n</div>"
     },
     "metadata": {},
     "execution_count": 3
    }
   ],
   "source": [
    "df2.head()"
   ]
  },
  {
   "cell_type": "code",
   "execution_count": 4,
   "metadata": {},
   "outputs": [],
   "source": [
    "#train dataset \n",
    "X_train = df2[['bowling_team','striker']].copy()\n",
    "#label(which we want to predict)\n",
    "y_train = df2[['runs']]"
   ]
  },
  {
   "cell_type": "code",
   "execution_count": 5,
   "metadata": {},
   "outputs": [
    {
     "output_type": "stream",
     "name": "stderr",
     "text": [
      "ipykernel_launcher:4: DataConversionWarning: A column-vector y was passed when a 1d array was expected. Please change the shape of y to (n_samples,), for example using ravel().\n"
     ]
    }
   ],
   "source": [
    "# I'm using Random Forest Regressor you can use anyone you like\n",
    "from sklearn.ensemble import RandomForestRegressor\n",
    "regr = RandomForestRegressor(random_state=0)\n",
    "fitter = regr.fit(X_train,y_train)\n"
   ]
  },
  {
   "cell_type": "code",
   "execution_count": 6,
   "metadata": {},
   "outputs": [
    {
     "output_type": "execute_result",
     "data": {
      "text/plain": [
       "['RandomForestRegressor.joblib']"
      ]
     },
     "metadata": {},
     "execution_count": 6
    }
   ],
   "source": [
    "import numpy as np\n",
    "import joblib\n",
    "joblib.dump(teamEncoder, 'teamEncoder.joblib')\n",
    "joblib.dump(strikerEncoder,'strikerEncoder.joblib')\n",
    "joblib.dump(fitter,'RandomForestRegressor.joblib')"
   ]
  },
  {
   "cell_type": "code",
   "execution_count": null,
   "metadata": {},
   "outputs": [],
   "source": []
  }
 ]
}